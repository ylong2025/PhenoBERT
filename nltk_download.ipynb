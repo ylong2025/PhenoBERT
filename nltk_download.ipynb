{
 "cells": [
  {
   "cell_type": "code",
   "execution_count": null,
   "metadata": {},
   "outputs": [],
   "source": [
    "# If donwload failed, you can download the data manually"
   ]
  },
  {
   "cell_type": "code",
   "execution_count": null,
   "metadata": {},
   "outputs": [],
   "source": [
    "import nltk\n",
    "\n",
    "print(\"Checking and downloading required NLTK data...\")\n",
    "\n",
    "try:\n",
    "    nltk.data.find('tokenizers/punkt')\n",
    "    print(\"✓ Punkt tokenizer already installed\")\n",
    "except LookupError:\n",
    "    print(\"Downloading Punkt tokenizer...\")\n",
    "    try:\n",
    "        nltk.download('punkt', download_dir=nltk.data.path[0])\n",
    "        print(\"✓ Punkt tokenizer installed\")\n",
    "    except Exception as e:\n",
    "        print(f\"Error downloading Punkt tokenizer: {e}\")\n",
    "\n",
    "try:\n",
    "    nltk.data.find('corpora/stopwords')\n",
    "    print(\"✓ Stopwords already installed\")\n",
    "except LookupError:\n",
    "    print(\"Downloading stopwords...\")\n",
    "    try:\n",
    "        nltk.download('stopwords', download_dir=nltk.data.path[0])\n",
    "        print(\"✓ Stopwords installed\")\n",
    "    except Exception as e:\n",
    "        print(f\"Error downloading stopwords: {e}\")\n",
    "\n",
    "try:\n",
    "    nltk.data.find('corpora/wordnet')\n",
    "    print(\"✓ WordNet already installed\")\n",
    "except LookupError:\n",
    "    print(\"Downloading WordNet...\")\n",
    "    try:\n",
    "        nltk.download('wordnet', download_dir=nltk.data.path[0])\n",
    "        print(\"✓ WordNet installed\")\n",
    "    except Exception as e:\n",
    "        print(f\"Error downloading WordNet: {e}\")\n",
    "\n",
    "try:\n",
    "    nltk.data.find('tokenizers/punkt_tab')\n",
    "    print(\"✓ Punkt tab tokenizer already installed\")\n",
    "except LookupError:\n",
    "    print(\"Downloading Punkt tab tokenizer...\")\n",
    "    try:\n",
    "        nltk.download('punkt_tab', download_dir=nltk.data.path[0])\n",
    "        print(\"✓ Punkt tab tokenizer installed\")\n",
    "    except Exception as e:\n",
    "        print(f\"Error downloading Punkt tab tokenizer: {e}\")\n",
    "\n",
    "print(\"All required NLTK data is ready!\")\n"
   ]
  }
 ],
 "metadata": {
  "kernelspec": {
   "display_name": "phenobert",
   "language": "python",
   "name": "python3"
  },
  "language_info": {
   "codemirror_mode": {
    "name": "ipython",
    "version": 3
   },
   "file_extension": ".py",
   "mimetype": "text/x-python",
   "name": "python",
   "nbconvert_exporter": "python",
   "pygments_lexer": "ipython3",
   "version": "3.8.20"
  }
 },
 "nbformat": 4,
 "nbformat_minor": 2
}
